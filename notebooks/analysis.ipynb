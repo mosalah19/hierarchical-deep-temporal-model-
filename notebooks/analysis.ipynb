{
 "cells": [
  {
   "cell_type": "code",
   "execution_count": 67,
   "metadata": {},
   "outputs": [],
   "source": [
    "import pandas as pd\n",
    "df=pd.read_csv(r'D:\\Data Science\\Final_Project\\hierarchical_deep_temporal_models_for_group_activity_recognition\\data\\annotations\\video_annotation.csv')\n",
    "df2=pd.read_csv(r'D:\\Data Science\\Final_Project\\hierarchical_deep_temporal_models_for_group_activity_recognition\\data\\annotations\\w.csv')"
   ]
  },
  {
   "cell_type": "code",
   "execution_count": 68,
   "metadata": {},
   "outputs": [
    {
     "data": {
      "text/html": [
       "<div>\n",
       "<style scoped>\n",
       "    .dataframe tbody tr th:only-of-type {\n",
       "        vertical-align: middle;\n",
       "    }\n",
       "\n",
       "    .dataframe tbody tr th {\n",
       "        vertical-align: top;\n",
       "    }\n",
       "\n",
       "    .dataframe thead th {\n",
       "        text-align: right;\n",
       "    }\n",
       "</style>\n",
       "<table border=\"1\" class=\"dataframe\">\n",
       "  <thead>\n",
       "    <tr style=\"text-align: right;\">\n",
       "      <th></th>\n",
       "      <th>video</th>\n",
       "      <th>MainFrame</th>\n",
       "      <th>feature_vector</th>\n",
       "    </tr>\n",
       "  </thead>\n",
       "  <tbody>\n",
       "    <tr>\n",
       "      <th>0</th>\n",
       "      <td>0</td>\n",
       "      <td>13286.jpg</td>\n",
       "      <td>[0.22876059 0.11594155 0.8200442  ... 0.082939...</td>\n",
       "    </tr>\n",
       "    <tr>\n",
       "      <th>1</th>\n",
       "      <td>0</td>\n",
       "      <td>13336.jpg</td>\n",
       "      <td>[0.13090675 0.51647955 0.52438325 ... 0.028553...</td>\n",
       "    </tr>\n",
       "    <tr>\n",
       "      <th>2</th>\n",
       "      <td>0</td>\n",
       "      <td>13361.jpg</td>\n",
       "      <td>[0.49394825 0.5028987  0.84869593 ... 0.104468...</td>\n",
       "    </tr>\n",
       "    <tr>\n",
       "      <th>3</th>\n",
       "      <td>0</td>\n",
       "      <td>13406.jpg</td>\n",
       "      <td>[0.15273735 0.23444009 0.4647737  ... 0.111536...</td>\n",
       "    </tr>\n",
       "    <tr>\n",
       "      <th>4</th>\n",
       "      <td>0</td>\n",
       "      <td>13456.jpg</td>\n",
       "      <td>[0.34163085 0.1497777  1.0874199  ... 0.122582...</td>\n",
       "    </tr>\n",
       "    <tr>\n",
       "      <th>...</th>\n",
       "      <td>...</td>\n",
       "      <td>...</td>\n",
       "      <td>...</td>\n",
       "    </tr>\n",
       "    <tr>\n",
       "      <th>4825</th>\n",
       "      <td>54</td>\n",
       "      <td>9895.jpg</td>\n",
       "      <td>[0.36349565 0.24439706 1.9420455  ... 0.124583...</td>\n",
       "    </tr>\n",
       "    <tr>\n",
       "      <th>4826</th>\n",
       "      <td>54</td>\n",
       "      <td>9910.jpg</td>\n",
       "      <td>[0.49779183 0.13992308 1.74923    ... 0.065381...</td>\n",
       "    </tr>\n",
       "    <tr>\n",
       "      <th>4827</th>\n",
       "      <td>54</td>\n",
       "      <td>9925.jpg</td>\n",
       "      <td>[0.30147225 0.12064979 2.0826888  ... 0.153021...</td>\n",
       "    </tr>\n",
       "    <tr>\n",
       "      <th>4828</th>\n",
       "      <td>54</td>\n",
       "      <td>9965.jpg</td>\n",
       "      <td>[0.4315266  0.21706332 1.0325526  ... 0.119289...</td>\n",
       "    </tr>\n",
       "    <tr>\n",
       "      <th>4829</th>\n",
       "      <td>54</td>\n",
       "      <td>9990.jpg</td>\n",
       "      <td>[0.5483575  0.5429786  1.3738953  ... 0.194431...</td>\n",
       "    </tr>\n",
       "  </tbody>\n",
       "</table>\n",
       "<p>4830 rows × 3 columns</p>\n",
       "</div>"
      ],
      "text/plain": [
       "      video  MainFrame                                     feature_vector\n",
       "0         0  13286.jpg  [0.22876059 0.11594155 0.8200442  ... 0.082939...\n",
       "1         0  13336.jpg  [0.13090675 0.51647955 0.52438325 ... 0.028553...\n",
       "2         0  13361.jpg  [0.49394825 0.5028987  0.84869593 ... 0.104468...\n",
       "3         0  13406.jpg  [0.15273735 0.23444009 0.4647737  ... 0.111536...\n",
       "4         0  13456.jpg  [0.34163085 0.1497777  1.0874199  ... 0.122582...\n",
       "...     ...        ...                                                ...\n",
       "4825     54   9895.jpg  [0.36349565 0.24439706 1.9420455  ... 0.124583...\n",
       "4826     54   9910.jpg  [0.49779183 0.13992308 1.74923    ... 0.065381...\n",
       "4827     54   9925.jpg  [0.30147225 0.12064979 2.0826888  ... 0.153021...\n",
       "4828     54   9965.jpg  [0.4315266  0.21706332 1.0325526  ... 0.119289...\n",
       "4829     54   9990.jpg  [0.5483575  0.5429786  1.3738953  ... 0.194431...\n",
       "\n",
       "[4830 rows x 3 columns]"
      ]
     },
     "execution_count": 68,
     "metadata": {},
     "output_type": "execute_result"
    }
   ],
   "source": [
    "df2['MainFrame'] = df2['MainFrame'].astype(str) + '.jpg'\n",
    "df2\n",
    "# pd.merge(left=df,right=df2,on=\"MainFrame\",how=\"outer\")\n",
    "\n"
   ]
  },
  {
   "cell_type": "code",
   "execution_count": 69,
   "metadata": {},
   "outputs": [
    {
     "data": {
      "text/html": [
       "<div>\n",
       "<style scoped>\n",
       "    .dataframe tbody tr th:only-of-type {\n",
       "        vertical-align: middle;\n",
       "    }\n",
       "\n",
       "    .dataframe tbody tr th {\n",
       "        vertical-align: top;\n",
       "    }\n",
       "\n",
       "    .dataframe thead th {\n",
       "        text-align: right;\n",
       "    }\n",
       "</style>\n",
       "<table border=\"1\" class=\"dataframe\">\n",
       "  <thead>\n",
       "    <tr style=\"text-align: right;\">\n",
       "      <th></th>\n",
       "      <th>video</th>\n",
       "      <th>MainFrame</th>\n",
       "      <th>label</th>\n",
       "      <th>feature_vector</th>\n",
       "    </tr>\n",
       "  </thead>\n",
       "  <tbody>\n",
       "    <tr>\n",
       "      <th>0</th>\n",
       "      <td>0</td>\n",
       "      <td>48075.jpg</td>\n",
       "      <td>7</td>\n",
       "      <td>[0.26932135 0.03515102 1.029129   ... 0.465128...</td>\n",
       "    </tr>\n",
       "    <tr>\n",
       "      <th>1</th>\n",
       "      <td>0</td>\n",
       "      <td>45210.jpg</td>\n",
       "      <td>7</td>\n",
       "      <td>[0.56102556 0.17478865 1.1161739  ... 0.035417...</td>\n",
       "    </tr>\n",
       "    <tr>\n",
       "      <th>2</th>\n",
       "      <td>0</td>\n",
       "      <td>35925.jpg</td>\n",
       "      <td>3</td>\n",
       "      <td>[0.1683197  0.04063925 0.7556557  ... 0.447558...</td>\n",
       "    </tr>\n",
       "    <tr>\n",
       "      <th>3</th>\n",
       "      <td>0</td>\n",
       "      <td>52335.jpg</td>\n",
       "      <td>7</td>\n",
       "      <td>[0.5297356  0.12334977 1.1452633  ... 0.380719...</td>\n",
       "    </tr>\n",
       "    <tr>\n",
       "      <th>4</th>\n",
       "      <td>0</td>\n",
       "      <td>30150.jpg</td>\n",
       "      <td>7</td>\n",
       "      <td>[0.23620549 0.11175998 0.7555499  ... 0.157906...</td>\n",
       "    </tr>\n",
       "    <tr>\n",
       "      <th>...</th>\n",
       "      <td>...</td>\n",
       "      <td>...</td>\n",
       "      <td>...</td>\n",
       "      <td>...</td>\n",
       "    </tr>\n",
       "    <tr>\n",
       "      <th>4825</th>\n",
       "      <td>54</td>\n",
       "      <td>53380.jpg</td>\n",
       "      <td>2</td>\n",
       "      <td>[0.5903671  0.21281286 1.1056042  ... 0.100623...</td>\n",
       "    </tr>\n",
       "    <tr>\n",
       "      <th>4826</th>\n",
       "      <td>54</td>\n",
       "      <td>53415.jpg</td>\n",
       "      <td>4</td>\n",
       "      <td>[0.26639646 0.15897943 1.9908794  ... 0.172740...</td>\n",
       "    </tr>\n",
       "    <tr>\n",
       "      <th>4827</th>\n",
       "      <td>54</td>\n",
       "      <td>72725.jpg</td>\n",
       "      <td>4</td>\n",
       "      <td>[0.69190896 0.0845044  1.1301181  ... 0.161728...</td>\n",
       "    </tr>\n",
       "    <tr>\n",
       "      <th>4828</th>\n",
       "      <td>54</td>\n",
       "      <td>73175.jpg</td>\n",
       "      <td>0</td>\n",
       "      <td>[0.35745773 0.18461804 1.5074756  ... 0.039629...</td>\n",
       "    </tr>\n",
       "    <tr>\n",
       "      <th>4829</th>\n",
       "      <td>54</td>\n",
       "      <td>53500.jpg</td>\n",
       "      <td>6</td>\n",
       "      <td>[0.36343205 0.05054019 0.9629817  ... 0.072782...</td>\n",
       "    </tr>\n",
       "  </tbody>\n",
       "</table>\n",
       "<p>4830 rows × 4 columns</p>\n",
       "</div>"
      ],
      "text/plain": [
       "      video  MainFrame  label  \\\n",
       "0         0  48075.jpg      7   \n",
       "1         0  45210.jpg      7   \n",
       "2         0  35925.jpg      3   \n",
       "3         0  52335.jpg      7   \n",
       "4         0  30150.jpg      7   \n",
       "...     ...        ...    ...   \n",
       "4825     54  53380.jpg      2   \n",
       "4826     54  53415.jpg      4   \n",
       "4827     54  72725.jpg      4   \n",
       "4828     54  73175.jpg      0   \n",
       "4829     54  53500.jpg      6   \n",
       "\n",
       "                                         feature_vector  \n",
       "0     [0.26932135 0.03515102 1.029129   ... 0.465128...  \n",
       "1     [0.56102556 0.17478865 1.1161739  ... 0.035417...  \n",
       "2     [0.1683197  0.04063925 0.7556557  ... 0.447558...  \n",
       "3     [0.5297356  0.12334977 1.1452633  ... 0.380719...  \n",
       "4     [0.23620549 0.11175998 0.7555499  ... 0.157906...  \n",
       "...                                                 ...  \n",
       "4825  [0.5903671  0.21281286 1.1056042  ... 0.100623...  \n",
       "4826  [0.26639646 0.15897943 1.9908794  ... 0.172740...  \n",
       "4827  [0.69190896 0.0845044  1.1301181  ... 0.161728...  \n",
       "4828  [0.35745773 0.18461804 1.5074756  ... 0.039629...  \n",
       "4829  [0.36343205 0.05054019 0.9629817  ... 0.072782...  \n",
       "\n",
       "[4830 rows x 4 columns]"
      ]
     },
     "execution_count": 69,
     "metadata": {},
     "output_type": "execute_result"
    }
   ],
   "source": [
    "dff=df.merge(df2, on=[\"MainFrame\",\"video\"], how = 'inner')\n",
    "dff"
   ]
  },
  {
   "cell_type": "code",
   "execution_count": 78,
   "metadata": {},
   "outputs": [
    {
     "name": "stderr",
     "output_type": "stream",
     "text": [
      "C:\\conda_tmp\\ipykernel_17900\\2124809273.py:3: DeprecationWarning: string or file could not be read to its end due to unmatched data; this will raise a ValueError in the future.\n",
      "  np.fromstring(dff['feature_vector'][0].strip('[]'), sep=' ')\n"
     ]
    },
    {
     "data": {
      "text/plain": [
       "array([0.26932135, 0.03515102, 1.029129  ])"
      ]
     },
     "execution_count": 78,
     "metadata": {},
     "output_type": "execute_result"
    }
   ],
   "source": [
    "import numpy as np\n",
    "\n",
    "np.fromstring(dff['feature_vector'][0].strip('[]'), sep=' ')"
   ]
  },
  {
   "cell_type": "code",
   "execution_count": 3,
   "metadata": {},
   "outputs": [],
   "source": [
    "training_set = df[df['video'].isin([\n",
    "        1, 3, 6, 7, 10, 13, 15, 16, 18, 22, 23, 31, 32, 36, 38, 39, 40, 41, 42, 48, 50, 52, 53, 54])]\n",
    "Validation_set = df[df['video'].isin([\n",
    "        0, 2, 8, 12, 17, 19, 24, 26, 27, 28, 30, 33, 46, 49, 51])]\n",
    "test_set = df[df['video'].isin([\n",
    "        4, 5, 9, 11, 14, 20, 21, 25, 29, 34, 35, 37, 43, 44, 45, 47])]"
   ]
  },
  {
   "cell_type": "code",
   "execution_count": 7,
   "metadata": {},
   "outputs": [
    {
     "data": {
      "text/plain": [
       "0    378\n",
       "4    353\n",
       "2    304\n",
       "1    289\n",
       "5    283\n",
       "6    261\n",
       "3    161\n",
       "7    123\n",
       "Name: label, dtype: int64"
      ]
     },
     "execution_count": 7,
     "metadata": {},
     "output_type": "execute_result"
    }
   ],
   "source": [
    "training_set['label'].value_counts()"
   ]
  },
  {
   "cell_type": "code",
   "execution_count": 8,
   "metadata": {},
   "outputs": [
    {
     "data": {
      "text/plain": [
       "4    238\n",
       "0    222\n",
       "6    189\n",
       "1    174\n",
       "5    169\n",
       "2    160\n",
       "3    104\n",
       "7     85\n",
       "Name: label, dtype: int64"
      ]
     },
     "execution_count": 8,
     "metadata": {},
     "output_type": "execute_result"
    }
   ],
   "source": [
    "Validation_set['label'].value_counts()"
   ]
  },
  {
   "cell_type": "code",
   "execution_count": 6,
   "metadata": {},
   "outputs": [
    {
     "data": {
      "text/plain": [
       "1337"
      ]
     },
     "execution_count": 6,
     "metadata": {},
     "output_type": "execute_result"
    }
   ],
   "source": [
    "test_set['label'].value_counts().sum()"
   ]
  },
  {
   "cell_type": "code",
   "execution_count": 20,
   "metadata": {},
   "outputs": [
    {
     "data": {
      "text/plain": [
       "array([[0.3481785 , 0.57163212, 0.67085587],\n",
       "       [0.91058644, 0.15051416, 0.63349712],\n",
       "       [0.52283837, 0.22369015, 0.07605149],\n",
       "       [0.60712417, 0.49824379, 0.9342473 ],\n",
       "       [0.67809488, 0.19318035, 0.11210768]])"
      ]
     },
     "execution_count": 20,
     "metadata": {},
     "output_type": "execute_result"
    }
   ],
   "source": [
    "import numpy as np\n",
    "x=np.random.rand(5,3)\n",
    "# y=np.random.rand(5,1)\n",
    "# np.concatenate([x,y],axis=1)\n",
    "x"
   ]
  },
  {
   "cell_type": "code",
   "execution_count": 21,
   "metadata": {},
   "outputs": [],
   "source": [
    "x2=[x[i,1:].tolist() for i in range(x.shape[0])]\n",
    "\n",
    "# y=pd.DataFrame(y)\n",
    "# pd.concat([x,y],axis=1)"
   ]
  },
  {
   "cell_type": "code",
   "execution_count": 23,
   "metadata": {},
   "outputs": [
    {
     "ename": "TypeError",
     "evalue": "cannot concatenate object of type '<class 'numpy.ndarray'>'; only Series and DataFrame objs are valid",
     "output_type": "error",
     "traceback": [
      "\u001b[1;31m---------------------------------------------------------------------------\u001b[0m",
      "\u001b[1;31mTypeError\u001b[0m                                 Traceback (most recent call last)",
      "\u001b[1;32mC:\\conda_tmp\\ipykernel_10628\\3568573586.py\u001b[0m in \u001b[0;36m<module>\u001b[1;34m\u001b[0m\n\u001b[1;32m----> 1\u001b[1;33m \u001b[0mpd\u001b[0m\u001b[1;33m.\u001b[0m\u001b[0mconcat\u001b[0m\u001b[1;33m(\u001b[0m\u001b[1;33m[\u001b[0m\u001b[0mx\u001b[0m\u001b[1;33m,\u001b[0m\u001b[0mpd\u001b[0m\u001b[1;33m.\u001b[0m\u001b[0mDataFrame\u001b[0m\u001b[1;33m(\u001b[0m\u001b[0mx2\u001b[0m\u001b[1;33m)\u001b[0m\u001b[1;33m]\u001b[0m\u001b[1;33m,\u001b[0m\u001b[0maxis\u001b[0m\u001b[1;33m=\u001b[0m\u001b[1;36m0\u001b[0m\u001b[1;33m)\u001b[0m\u001b[1;33m\u001b[0m\u001b[1;33m\u001b[0m\u001b[0m\n\u001b[0m",
      "\u001b[1;32md:\\anaconda\\New_folder\\lib\\site-packages\\pandas\\util\\_decorators.py\u001b[0m in \u001b[0;36mwrapper\u001b[1;34m(*args, **kwargs)\u001b[0m\n\u001b[0;32m    309\u001b[0m                     \u001b[0mstacklevel\u001b[0m\u001b[1;33m=\u001b[0m\u001b[0mstacklevel\u001b[0m\u001b[1;33m,\u001b[0m\u001b[1;33m\u001b[0m\u001b[1;33m\u001b[0m\u001b[0m\n\u001b[0;32m    310\u001b[0m                 )\n\u001b[1;32m--> 311\u001b[1;33m             \u001b[1;32mreturn\u001b[0m \u001b[0mfunc\u001b[0m\u001b[1;33m(\u001b[0m\u001b[1;33m*\u001b[0m\u001b[0margs\u001b[0m\u001b[1;33m,\u001b[0m \u001b[1;33m**\u001b[0m\u001b[0mkwargs\u001b[0m\u001b[1;33m)\u001b[0m\u001b[1;33m\u001b[0m\u001b[1;33m\u001b[0m\u001b[0m\n\u001b[0m\u001b[0;32m    312\u001b[0m \u001b[1;33m\u001b[0m\u001b[0m\n\u001b[0;32m    313\u001b[0m         \u001b[1;32mreturn\u001b[0m \u001b[0mwrapper\u001b[0m\u001b[1;33m\u001b[0m\u001b[1;33m\u001b[0m\u001b[0m\n",
      "\u001b[1;32md:\\anaconda\\New_folder\\lib\\site-packages\\pandas\\core\\reshape\\concat.py\u001b[0m in \u001b[0;36mconcat\u001b[1;34m(objs, axis, join, ignore_index, keys, levels, names, verify_integrity, sort, copy)\u001b[0m\n\u001b[0;32m    345\u001b[0m     \u001b[0mValueError\u001b[0m\u001b[1;33m:\u001b[0m \u001b[0mIndexes\u001b[0m \u001b[0mhave\u001b[0m \u001b[0moverlapping\u001b[0m \u001b[0mvalues\u001b[0m\u001b[1;33m:\u001b[0m \u001b[1;33m[\u001b[0m\u001b[1;34m'a'\u001b[0m\u001b[1;33m]\u001b[0m\u001b[1;33m\u001b[0m\u001b[1;33m\u001b[0m\u001b[0m\n\u001b[0;32m    346\u001b[0m     \"\"\"\n\u001b[1;32m--> 347\u001b[1;33m     op = _Concatenator(\n\u001b[0m\u001b[0;32m    348\u001b[0m         \u001b[0mobjs\u001b[0m\u001b[1;33m,\u001b[0m\u001b[1;33m\u001b[0m\u001b[1;33m\u001b[0m\u001b[0m\n\u001b[0;32m    349\u001b[0m         \u001b[0maxis\u001b[0m\u001b[1;33m=\u001b[0m\u001b[0maxis\u001b[0m\u001b[1;33m,\u001b[0m\u001b[1;33m\u001b[0m\u001b[1;33m\u001b[0m\u001b[0m\n",
      "\u001b[1;32md:\\anaconda\\New_folder\\lib\\site-packages\\pandas\\core\\reshape\\concat.py\u001b[0m in \u001b[0;36m__init__\u001b[1;34m(self, objs, axis, join, keys, levels, names, ignore_index, verify_integrity, copy, sort)\u001b[0m\n\u001b[0;32m    435\u001b[0m                     \u001b[1;34m\"only Series and DataFrame objs are valid\"\u001b[0m\u001b[1;33m\u001b[0m\u001b[1;33m\u001b[0m\u001b[0m\n\u001b[0;32m    436\u001b[0m                 )\n\u001b[1;32m--> 437\u001b[1;33m                 \u001b[1;32mraise\u001b[0m \u001b[0mTypeError\u001b[0m\u001b[1;33m(\u001b[0m\u001b[0mmsg\u001b[0m\u001b[1;33m)\u001b[0m\u001b[1;33m\u001b[0m\u001b[1;33m\u001b[0m\u001b[0m\n\u001b[0m\u001b[0;32m    438\u001b[0m \u001b[1;33m\u001b[0m\u001b[0m\n\u001b[0;32m    439\u001b[0m             \u001b[0mndims\u001b[0m\u001b[1;33m.\u001b[0m\u001b[0madd\u001b[0m\u001b[1;33m(\u001b[0m\u001b[0mobj\u001b[0m\u001b[1;33m.\u001b[0m\u001b[0mndim\u001b[0m\u001b[1;33m)\u001b[0m\u001b[1;33m\u001b[0m\u001b[1;33m\u001b[0m\u001b[0m\n",
      "\u001b[1;31mTypeError\u001b[0m: cannot concatenate object of type '<class 'numpy.ndarray'>'; only Series and DataFrame objs are valid"
     ]
    }
   ],
   "source": [
    "pd.concat([x,pd.DataFrame(x2)],axis=0)"
   ]
  },
  {
   "cell_type": "code",
   "execution_count": 24,
   "metadata": {},
   "outputs": [
    {
     "data": {
      "text/html": [
       "<div>\n",
       "<style scoped>\n",
       "    .dataframe tbody tr th:only-of-type {\n",
       "        vertical-align: middle;\n",
       "    }\n",
       "\n",
       "    .dataframe tbody tr th {\n",
       "        vertical-align: top;\n",
       "    }\n",
       "\n",
       "    .dataframe thead th {\n",
       "        text-align: right;\n",
       "    }\n",
       "</style>\n",
       "<table border=\"1\" class=\"dataframe\">\n",
       "  <thead>\n",
       "    <tr style=\"text-align: right;\">\n",
       "      <th></th>\n",
       "      <th>0</th>\n",
       "      <th>1</th>\n",
       "    </tr>\n",
       "  </thead>\n",
       "  <tbody>\n",
       "    <tr>\n",
       "      <th>0</th>\n",
       "      <td>0.571632</td>\n",
       "      <td>0.670856</td>\n",
       "    </tr>\n",
       "    <tr>\n",
       "      <th>1</th>\n",
       "      <td>0.150514</td>\n",
       "      <td>0.633497</td>\n",
       "    </tr>\n",
       "    <tr>\n",
       "      <th>2</th>\n",
       "      <td>0.223690</td>\n",
       "      <td>0.076051</td>\n",
       "    </tr>\n",
       "    <tr>\n",
       "      <th>3</th>\n",
       "      <td>0.498244</td>\n",
       "      <td>0.934247</td>\n",
       "    </tr>\n",
       "    <tr>\n",
       "      <th>4</th>\n",
       "      <td>0.193180</td>\n",
       "      <td>0.112108</td>\n",
       "    </tr>\n",
       "  </tbody>\n",
       "</table>\n",
       "</div>"
      ],
      "text/plain": [
       "          0         1\n",
       "0  0.571632  0.670856\n",
       "1  0.150514  0.633497\n",
       "2  0.223690  0.076051\n",
       "3  0.498244  0.934247\n",
       "4  0.193180  0.112108"
      ]
     },
     "execution_count": 24,
     "metadata": {},
     "output_type": "execute_result"
    }
   ],
   "source": [
    "pd.DataFrame(x2)"
   ]
  },
  {
   "cell_type": "code",
   "execution_count": null,
   "metadata": {},
   "outputs": [],
   "source": []
  }
 ],
 "metadata": {
  "kernelspec": {
   "display_name": "base",
   "language": "python",
   "name": "python3"
  },
  "language_info": {
   "codemirror_mode": {
    "name": "ipython",
    "version": 3
   },
   "file_extension": ".py",
   "mimetype": "text/x-python",
   "name": "python",
   "nbconvert_exporter": "python",
   "pygments_lexer": "ipython3",
   "version": "3.9.18"
  }
 },
 "nbformat": 4,
 "nbformat_minor": 2
}
